{
  "nbformat": 4,
  "nbformat_minor": 0,
  "metadata": {
    "colab": {
      "name": "Palindrom Number Check.ipynb",
      "provenance": [],
      "collapsed_sections": []
    },
    "kernelspec": {
      "name": "python3",
      "display_name": "Python 3"
    },
    "language_info": {
      "name": "python"
    }
  },
  "cells": [
    {
      "cell_type": "markdown",
      "source": [
        "# **Import Random & List Input**"
      ],
      "metadata": {
        "id": "CKLSd6k-a2vm"
      }
    },
    {
      "cell_type": "code",
      "source": [
        "import random\n",
        "input = random.randrange(1,10000,1)\n",
        "new_list = str(input)\n",
        "list_num = list(new_list)\n",
        "rev_list_num = list_num[::-1]\n",
        "print(list_num)\n",
        "print(rev_list_num)"
      ],
      "metadata": {
        "colab": {
          "base_uri": "https://localhost:8080/"
        },
        "id": "_w_BnslYNPQD",
        "outputId": "7e04adde-2009-4501-acac-891d1609875f"
      },
      "execution_count": null,
      "outputs": [
        {
          "output_type": "stream",
          "name": "stdout",
          "text": [
            "['1', '8', '1']\n",
            "['1', '8', '1']\n"
          ]
        }
      ]
    },
    {
      "cell_type": "markdown",
      "source": [
        "## **Defined Function cek_bilangan_palindrom**"
      ],
      "metadata": {
        "id": "a6GqCwk3bQoO"
      }
    },
    {
      "cell_type": "code",
      "source": [
        "def cek_bilangan_palindrom(list_num, rev_list_num):\n",
        "  return True if list_num == rev_list_num else False"
      ],
      "metadata": {
        "id": "yepeW5oaQ25A"
      },
      "execution_count": null,
      "outputs": []
    },
    {
      "cell_type": "code",
      "source": [
        "cek_bilangan_palindrom(list_num, rev_list_num)"
      ],
      "metadata": {
        "colab": {
          "base_uri": "https://localhost:8080/"
        },
        "id": "V-9M-1jXSBjF",
        "outputId": "87648c63-7e9b-4eb0-f6d3-b88517ce2adc"
      },
      "execution_count": null,
      "outputs": [
        {
          "output_type": "execute_result",
          "data": {
            "text/plain": [
              "True"
            ]
          },
          "metadata": {},
          "execution_count": 46
        }
      ]
    },
    {
      "cell_type": "markdown",
      "source": [
        "## **Keterangan Apakah Merupakan Bilangan Palindrom atau Bukan**"
      ],
      "metadata": {
        "id": "Ap6_QpnlbhFQ"
      }
    },
    {
      "cell_type": "code",
      "source": [
        "if cek_bilangan_palindrom(list_num, rev_list_num) == True:\n",
        "  print('Ini Bilangan Palindrom')\n",
        "else:\n",
        "  print('Ini Bukan Bilangan Palindrom')"
      ],
      "metadata": {
        "colab": {
          "base_uri": "https://localhost:8080/"
        },
        "id": "j3eSYe0cUeRN",
        "outputId": "3c5b0d52-d6c6-4746-d219-bf59379db74b"
      },
      "execution_count": null,
      "outputs": [
        {
          "output_type": "stream",
          "name": "stdout",
          "text": [
            "Ini Bilangan Palindrom\n"
          ]
        }
      ]
    }
  ]
}