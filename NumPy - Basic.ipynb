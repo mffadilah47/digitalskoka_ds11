{
  "nbformat": 4,
  "nbformat_minor": 0,
  "metadata": {
    "colab": {
      "name": "Array Reshaping.ipynb",
      "provenance": [],
      "collapsed_sections": []
    },
    "kernelspec": {
      "name": "python3",
      "display_name": "Python 3"
    },
    "language_info": {
      "name": "python"
    }
  },
  "cells": [
    {
      "cell_type": "markdown",
      "source": [
        "## **Import Numpy & Make Variable 'arr1' as Array**"
      ],
      "metadata": {
        "id": "MgJUWVLZcGsH"
      }
    },
    {
      "cell_type": "code",
      "execution_count": null,
      "metadata": {
        "colab": {
          "base_uri": "https://localhost:8080/"
        },
        "id": "qmrA2Lsg1BYk",
        "outputId": "1b6f3889-39b5-493d-9a0c-ff0949a6450f"
      },
      "outputs": [
        {
          "output_type": "execute_result",
          "data": {
            "text/plain": [
              "array([ 1,  2,  3,  4,  5,  6,  7,  8,  9, 10, 11, 12, 13, 14, 15, 16, 17,\n",
              "       18, 19, 20, 21, 22, 23, 24, 25, 26, 27, 28, 29, 30])"
            ]
          },
          "metadata": {},
          "execution_count": 58
        }
      ],
      "source": [
        "import numpy as np\n",
        "arr1 = np.array([i+1 for i in range(0,30)])\n",
        "arr1"
      ]
    },
    {
      "cell_type": "markdown",
      "source": [
        "## **Define & Reshaping Variable 'arr2' as Array**"
      ],
      "metadata": {
        "id": "E7TPXIHxcX9O"
      }
    },
    {
      "cell_type": "code",
      "source": [
        "arr2 = arr1.reshape(5,6)\n",
        "arr2"
      ],
      "metadata": {
        "colab": {
          "base_uri": "https://localhost:8080/"
        },
        "id": "833bhfgd1jTW",
        "outputId": "6e35bdb5-1a1b-4fbd-8763-663ca5f0f178"
      },
      "execution_count": null,
      "outputs": [
        {
          "output_type": "execute_result",
          "data": {
            "text/plain": [
              "array([[ 1,  2,  3,  4,  5,  6],\n",
              "       [ 7,  8,  9, 10, 11, 12],\n",
              "       [13, 14, 15, 16, 17, 18],\n",
              "       [19, 20, 21, 22, 23, 24],\n",
              "       [25, 26, 27, 28, 29, 30]])"
            ]
          },
          "metadata": {},
          "execution_count": 10
        }
      ]
    },
    {
      "cell_type": "markdown",
      "source": [
        "## **Define Variable 'kuning' as Array 2D (2,2)**"
      ],
      "metadata": {
        "id": "9bMAPAYXdBli"
      }
    },
    {
      "cell_type": "code",
      "source": [
        "kuning = arr2[3:,4:]\n",
        "kuning"
      ],
      "metadata": {
        "colab": {
          "base_uri": "https://localhost:8080/"
        },
        "id": "piiWYh5S20aF",
        "outputId": "61a5bf09-29cc-490f-9c63-7581b8df4422"
      },
      "execution_count": null,
      "outputs": [
        {
          "output_type": "execute_result",
          "data": {
            "text/plain": [
              "array([[23, 24],\n",
              "       [29, 30]])"
            ]
          },
          "metadata": {},
          "execution_count": 82
        }
      ]
    },
    {
      "cell_type": "markdown",
      "source": [
        "## **Define Variable 'horz' as Array (1,5)**"
      ],
      "metadata": {
        "id": "ePRJuui-df0g"
      }
    },
    {
      "cell_type": "code",
      "source": [
        "horz = arr2[:1,1:]\n",
        "horz"
      ],
      "metadata": {
        "colab": {
          "base_uri": "https://localhost:8080/"
        },
        "id": "i44_IBHU4_QV",
        "outputId": "d5fbe5ee-7b28-488a-b4ee-1140ec612a67"
      },
      "execution_count": null,
      "outputs": [
        {
          "output_type": "execute_result",
          "data": {
            "text/plain": [
              "array([[2, 3, 4, 5, 6]])"
            ]
          },
          "metadata": {},
          "execution_count": 69
        }
      ]
    },
    {
      "cell_type": "markdown",
      "source": [
        "## **Define Variable 'vert' as Array**\n",
        "## **Define and Reshaping Variable 'vert1' as Array (1,5)**"
      ],
      "metadata": {
        "id": "9nCjavX3d3Ik"
      }
    },
    {
      "cell_type": "code",
      "source": [
        "vert = arr2[0:,1]\n",
        "vert1 = vert.reshape(1,5)\n",
        "vert1"
      ],
      "metadata": {
        "id": "6HCfTE1a6iqd",
        "colab": {
          "base_uri": "https://localhost:8080/"
        },
        "outputId": "5729d25c-81f8-4567-911a-f4e47e709f2b"
      },
      "execution_count": null,
      "outputs": [
        {
          "output_type": "execute_result",
          "data": {
            "text/plain": [
              "array([[ 2,  8, 14, 20, 26]])"
            ]
          },
          "metadata": {},
          "execution_count": 54
        }
      ]
    },
    {
      "cell_type": "markdown",
      "source": [
        "## **Define Variable 'merah' as Array 2D (2,5)**"
      ],
      "metadata": {
        "id": "7iB2QgNGefV7"
      }
    },
    {
      "cell_type": "code",
      "source": [
        "merah = np.concatenate((horz,vert1), axis=0)\n",
        "merah"
      ],
      "metadata": {
        "colab": {
          "base_uri": "https://localhost:8080/"
        },
        "id": "ayq0U3GAbwQO",
        "outputId": "11e69d6a-9014-4dc9-832c-f3d34d37f1af"
      },
      "execution_count": null,
      "outputs": [
        {
          "output_type": "execute_result",
          "data": {
            "text/plain": [
              "array([[ 2,  3,  4,  5,  6],\n",
              "       [ 2,  8, 14, 20, 26]])"
            ]
          },
          "metadata": {},
          "execution_count": 70
        }
      ]
    }
  ]
}