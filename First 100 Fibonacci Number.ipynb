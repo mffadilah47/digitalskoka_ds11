{
  "nbformat": 4,
  "nbformat_minor": 0,
  "metadata": {
    "colab": {
      "name": "100 Fibonacci Number - Muhammad Fikri Fadila.ipynb",
      "provenance": [],
      "collapsed_sections": []
    },
    "kernelspec": {
      "name": "python3",
      "display_name": "Python 3"
    },
    "language_info": {
      "name": "python"
    }
  },
  "cells": [
    {
      "cell_type": "markdown",
      "source": [
        "## **Print Bilangan Fibonacci antara 1 - 100**"
      ],
      "metadata": {
        "id": "0baQ6Vfvph0V"
      }
    },
    {
      "cell_type": "code",
      "execution_count": null,
      "metadata": {
        "id": "ybZs4zMK2i6G",
        "colab": {
          "base_uri": "https://localhost:8080/"
        },
        "outputId": "f00e8a3b-8d6a-4b64-b9af-f26ac415caab"
      },
      "outputs": [
        {
          "output_type": "stream",
          "name": "stdout",
          "text": [
            "1\n",
            "1\n",
            "2\n",
            "3\n",
            "5\n",
            "8\n",
            "13\n",
            "21\n",
            "34\n",
            "55\n",
            "89\n"
          ]
        }
      ],
      "source": [
        "a = 0\n",
        "b = 1\n",
        "for i in range(1,100):\n",
        "  if i <= 1:\n",
        "    bilangan_fibonacci = i\n",
        "  else:\n",
        "    bilangan_fibonacci = a + b\n",
        "    a = b\n",
        "    b = bilangan_fibonacci\n",
        "  if bilangan_fibonacci >= 100:\n",
        "    break\n",
        "  print(bilangan_fibonacci)"
      ]
    },
    {
      "cell_type": "markdown",
      "source": [
        "## **Print 50 Bilangan Prima Pertama**"
      ],
      "metadata": {
        "id": "BOGtaKQupb-C"
      }
    },
    {
      "cell_type": "code",
      "source": [
        "print(2)\n",
        "a = 2\n",
        "b = 1\n",
        "\n",
        "while b < 50:\n",
        "    for i in range(2, a):\n",
        "        if a%i == 0:\n",
        "            break\n",
        "    if a == i + 1:\n",
        "        print(a)\n",
        "        b = b + 1\n",
        "\n",
        "    a = a + 1"
      ],
      "metadata": {
        "colab": {
          "base_uri": "https://localhost:8080/"
        },
        "id": "El8n_bTS4Czi",
        "outputId": "d390ef04-2ca9-4905-938c-f1fc6736e2fd"
      },
      "execution_count": null,
      "outputs": [
        {
          "output_type": "stream",
          "name": "stdout",
          "text": [
            "2\n",
            "3\n",
            "5\n",
            "7\n",
            "11\n",
            "13\n",
            "17\n",
            "19\n",
            "23\n",
            "29\n",
            "31\n",
            "37\n",
            "41\n",
            "43\n",
            "47\n",
            "53\n",
            "59\n",
            "61\n",
            "67\n",
            "71\n",
            "73\n",
            "79\n",
            "83\n",
            "89\n",
            "97\n",
            "101\n",
            "103\n",
            "107\n",
            "109\n",
            "113\n",
            "127\n",
            "131\n",
            "137\n",
            "139\n",
            "149\n",
            "151\n",
            "157\n",
            "163\n",
            "167\n",
            "173\n",
            "179\n",
            "181\n",
            "191\n",
            "193\n",
            "197\n",
            "199\n",
            "211\n",
            "223\n",
            "227\n",
            "229\n"
          ]
        }
      ]
    }
  ]
}