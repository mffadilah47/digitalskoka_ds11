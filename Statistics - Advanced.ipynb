{
  "nbformat": 4,
  "nbformat_minor": 0,
  "metadata": {
    "colab": {
      "name": "Advanced Statistics.ipynb",
      "provenance": []
    },
    "kernelspec": {
      "name": "python3",
      "display_name": "Python 3"
    },
    "language_info": {
      "name": "python"
    }
  },
  "cells": [
    {
      "cell_type": "markdown",
      "source": [
        "# **Dataset's Target**\n",
        "In Bank Churn dataset, the credit limit is one of the variables that determining whether the customer will churn/attrition or stay. \n",
        "\n",
        "In this code i will do hypothesis testing to know whether the credit limit average between male and female is equal or not. To do that, we need fifty samples (n=50). Therefore, we use hypothesis testing z-test. \n",
        "\n",
        "To know whether the credit limit average between male and female is equal we use two sample hypothesis."
      ],
      "metadata": {
        "id": "uw4v-sb_dgwU"
      }
    },
    {
      "cell_type": "markdown",
      "source": [
        "# **Import Library**"
      ],
      "metadata": {
        "id": "jCw_LwepbPfS"
      }
    },
    {
      "cell_type": "code",
      "execution_count": null,
      "metadata": {
        "id": "vaSr04EzxoO_",
        "colab": {
          "base_uri": "https://localhost:8080/"
        },
        "outputId": "7c48d916-c2c6-494a-8e4e-bb0fc8ecb93a"
      },
      "outputs": [
        {
          "output_type": "stream",
          "name": "stderr",
          "text": [
            "/usr/local/lib/python3.7/dist-packages/statsmodels/tools/_testing.py:19: FutureWarning: pandas.util.testing is deprecated. Use the functions in the public API at pandas.testing instead.\n",
            "  import pandas.util.testing as tm\n"
          ]
        }
      ],
      "source": [
        "import pandas as pd\n",
        "import numpy as np\n",
        "from statsmodels.stats.weightstats import ztest\n",
        "import scipy.stats as stats"
      ]
    },
    {
      "cell_type": "markdown",
      "source": [
        "# **Load Data**"
      ],
      "metadata": {
        "id": "sD9X7tCubWpm"
      }
    },
    {
      "cell_type": "code",
      "source": [
        "cc = pd.read_csv('https://raw.githubusercontent.com/densaiko/data_science_learning/main/dataset/BankChurners.csv')\n",
        "cc.filter(items=['CLIENTNUM','Attrition_Flag', 'Gender', 'Credit_Limit']).head()"
      ],
      "metadata": {
        "colab": {
          "base_uri": "https://localhost:8080/",
          "height": 206
        },
        "id": "AQZJIeunVv5r",
        "outputId": "96a27548-635e-43d1-8691-07f558dcb831"
      },
      "execution_count": null,
      "outputs": [
        {
          "output_type": "execute_result",
          "data": {
            "text/html": [
              "\n",
              "  <div id=\"df-4cf8e53c-428b-4199-891f-3cf0d631f91d\">\n",
              "    <div class=\"colab-df-container\">\n",
              "      <div>\n",
              "<style scoped>\n",
              "    .dataframe tbody tr th:only-of-type {\n",
              "        vertical-align: middle;\n",
              "    }\n",
              "\n",
              "    .dataframe tbody tr th {\n",
              "        vertical-align: top;\n",
              "    }\n",
              "\n",
              "    .dataframe thead th {\n",
              "        text-align: right;\n",
              "    }\n",
              "</style>\n",
              "<table border=\"1\" class=\"dataframe\">\n",
              "  <thead>\n",
              "    <tr style=\"text-align: right;\">\n",
              "      <th></th>\n",
              "      <th>CLIENTNUM</th>\n",
              "      <th>Attrition_Flag</th>\n",
              "      <th>Gender</th>\n",
              "      <th>Credit_Limit</th>\n",
              "    </tr>\n",
              "  </thead>\n",
              "  <tbody>\n",
              "    <tr>\n",
              "      <th>0</th>\n",
              "      <td>768805383</td>\n",
              "      <td>Existing Customer</td>\n",
              "      <td>M</td>\n",
              "      <td>12691.0</td>\n",
              "    </tr>\n",
              "    <tr>\n",
              "      <th>1</th>\n",
              "      <td>818770008</td>\n",
              "      <td>Existing Customer</td>\n",
              "      <td>F</td>\n",
              "      <td>8256.0</td>\n",
              "    </tr>\n",
              "    <tr>\n",
              "      <th>2</th>\n",
              "      <td>713982108</td>\n",
              "      <td>Existing Customer</td>\n",
              "      <td>M</td>\n",
              "      <td>3418.0</td>\n",
              "    </tr>\n",
              "    <tr>\n",
              "      <th>3</th>\n",
              "      <td>769911858</td>\n",
              "      <td>Existing Customer</td>\n",
              "      <td>F</td>\n",
              "      <td>3313.0</td>\n",
              "    </tr>\n",
              "    <tr>\n",
              "      <th>4</th>\n",
              "      <td>709106358</td>\n",
              "      <td>Existing Customer</td>\n",
              "      <td>M</td>\n",
              "      <td>4716.0</td>\n",
              "    </tr>\n",
              "  </tbody>\n",
              "</table>\n",
              "</div>\n",
              "      <button class=\"colab-df-convert\" onclick=\"convertToInteractive('df-4cf8e53c-428b-4199-891f-3cf0d631f91d')\"\n",
              "              title=\"Convert this dataframe to an interactive table.\"\n",
              "              style=\"display:none;\">\n",
              "        \n",
              "  <svg xmlns=\"http://www.w3.org/2000/svg\" height=\"24px\"viewBox=\"0 0 24 24\"\n",
              "       width=\"24px\">\n",
              "    <path d=\"M0 0h24v24H0V0z\" fill=\"none\"/>\n",
              "    <path d=\"M18.56 5.44l.94 2.06.94-2.06 2.06-.94-2.06-.94-.94-2.06-.94 2.06-2.06.94zm-11 1L8.5 8.5l.94-2.06 2.06-.94-2.06-.94L8.5 2.5l-.94 2.06-2.06.94zm10 10l.94 2.06.94-2.06 2.06-.94-2.06-.94-.94-2.06-.94 2.06-2.06.94z\"/><path d=\"M17.41 7.96l-1.37-1.37c-.4-.4-.92-.59-1.43-.59-.52 0-1.04.2-1.43.59L10.3 9.45l-7.72 7.72c-.78.78-.78 2.05 0 2.83L4 21.41c.39.39.9.59 1.41.59.51 0 1.02-.2 1.41-.59l7.78-7.78 2.81-2.81c.8-.78.8-2.07 0-2.86zM5.41 20L4 18.59l7.72-7.72 1.47 1.35L5.41 20z\"/>\n",
              "  </svg>\n",
              "      </button>\n",
              "      \n",
              "  <style>\n",
              "    .colab-df-container {\n",
              "      display:flex;\n",
              "      flex-wrap:wrap;\n",
              "      gap: 12px;\n",
              "    }\n",
              "\n",
              "    .colab-df-convert {\n",
              "      background-color: #E8F0FE;\n",
              "      border: none;\n",
              "      border-radius: 50%;\n",
              "      cursor: pointer;\n",
              "      display: none;\n",
              "      fill: #1967D2;\n",
              "      height: 32px;\n",
              "      padding: 0 0 0 0;\n",
              "      width: 32px;\n",
              "    }\n",
              "\n",
              "    .colab-df-convert:hover {\n",
              "      background-color: #E2EBFA;\n",
              "      box-shadow: 0px 1px 2px rgba(60, 64, 67, 0.3), 0px 1px 3px 1px rgba(60, 64, 67, 0.15);\n",
              "      fill: #174EA6;\n",
              "    }\n",
              "\n",
              "    [theme=dark] .colab-df-convert {\n",
              "      background-color: #3B4455;\n",
              "      fill: #D2E3FC;\n",
              "    }\n",
              "\n",
              "    [theme=dark] .colab-df-convert:hover {\n",
              "      background-color: #434B5C;\n",
              "      box-shadow: 0px 1px 3px 1px rgba(0, 0, 0, 0.15);\n",
              "      filter: drop-shadow(0px 1px 2px rgba(0, 0, 0, 0.3));\n",
              "      fill: #FFFFFF;\n",
              "    }\n",
              "  </style>\n",
              "\n",
              "      <script>\n",
              "        const buttonEl =\n",
              "          document.querySelector('#df-4cf8e53c-428b-4199-891f-3cf0d631f91d button.colab-df-convert');\n",
              "        buttonEl.style.display =\n",
              "          google.colab.kernel.accessAllowed ? 'block' : 'none';\n",
              "\n",
              "        async function convertToInteractive(key) {\n",
              "          const element = document.querySelector('#df-4cf8e53c-428b-4199-891f-3cf0d631f91d');\n",
              "          const dataTable =\n",
              "            await google.colab.kernel.invokeFunction('convertToInteractive',\n",
              "                                                     [key], {});\n",
              "          if (!dataTable) return;\n",
              "\n",
              "          const docLinkHtml = 'Like what you see? Visit the ' +\n",
              "            '<a target=\"_blank\" href=https://colab.research.google.com/notebooks/data_table.ipynb>data table notebook</a>'\n",
              "            + ' to learn more about interactive tables.';\n",
              "          element.innerHTML = '';\n",
              "          dataTable['output_type'] = 'display_data';\n",
              "          await google.colab.output.renderOutput(dataTable, element);\n",
              "          const docLink = document.createElement('div');\n",
              "          docLink.innerHTML = docLinkHtml;\n",
              "          element.appendChild(docLink);\n",
              "        }\n",
              "      </script>\n",
              "    </div>\n",
              "  </div>\n",
              "  "
            ],
            "text/plain": [
              "   CLIENTNUM     Attrition_Flag Gender  Credit_Limit\n",
              "0  768805383  Existing Customer      M       12691.0\n",
              "1  818770008  Existing Customer      F        8256.0\n",
              "2  713982108  Existing Customer      M        3418.0\n",
              "3  769911858  Existing Customer      F        3313.0\n",
              "4  709106358  Existing Customer      M        4716.0"
            ]
          },
          "metadata": {},
          "execution_count": 3
        }
      ]
    },
    {
      "cell_type": "markdown",
      "source": [
        "# **Hypothesis Testing with Two-Sample Z-test**"
      ],
      "metadata": {
        "id": "MLs_7BMPbbLm"
      }
    },
    {
      "cell_type": "code",
      "source": [
        "#Calculate the credit limit mean\n",
        "avg_CL = cc.iloc[:, 13:14].mean()\n",
        "print(avg_CL)\n",
        "\n",
        "#Obtain variable for Gender Male (M) & Female (F)\n",
        "CL_m = cc.loc[cc['Gender'] == 'M']\n",
        "CL_f = cc.loc[cc['Gender'] == 'F']\n",
        "\n",
        "#Create sample variable for Gender Male (M) & Female (F)\n",
        "sample_m = CL_m['Credit_Limit'].sample(n=50)\n",
        "sample_f = CL_f['Credit_Limit'].sample(n=50)\n",
        "\n",
        "#z-test function\n",
        "ztest, pvalue = ztest(x1=sample_m, x2=sample_f, value=0, alternative='two-sided')\n",
        "print('ztest: {} and pvalue: {}'.format(ztest, pvalue))\n",
        "\n",
        "#Confidence interval (CI) & alpha \n",
        "CI = 0.95\n",
        "alpha = 1-0.95\n",
        "\n",
        "print()\n",
        "#Condition for accepting / rejecting H0\n",
        "if pvalue < alpha:\n",
        "  print(\"Reject Hypothesis\")\n",
        "  print(\"Pvalue {} < alpha {}\".format(round(pvalue,2), round(alpha,2)))\n",
        "  \n",
        "else:\n",
        "  print(\"Accept Hypothesis\")\n",
        "  print(\"Pvalue {} > alpha {}\".format(round(pvalue,2), round(alpha,2)))"
      ],
      "metadata": {
        "id": "5-UClCUqV9fz",
        "colab": {
          "base_uri": "https://localhost:8080/"
        },
        "outputId": "36b54a44-7adf-4fe6-be44-212de35f0fb6"
      },
      "execution_count": null,
      "outputs": [
        {
          "output_type": "stream",
          "name": "stdout",
          "text": [
            "Credit_Limit    8631.953698\n",
            "dtype: float64\n",
            "ztest: 3.0188044856864513 and pvalue: 0.0025377424647624685\n",
            "\n",
            "Reject Hypothesis\n",
            "Pvalue 0.0 < alpha 0.05\n"
          ]
        }
      ]
    },
    {
      "cell_type": "markdown",
      "source": [
        "# **Summary**\n",
        "\n",
        "Since the Pvalue is far away below the alpha value, then the hypothesis is **rejected**. It means that the credit limit average between male and female customer is **different**."
      ],
      "metadata": {
        "id": "6IvbMh6-dAVC"
      }
    }
  ]
}