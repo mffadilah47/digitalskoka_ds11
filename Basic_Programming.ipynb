{
  "nbformat": 4,
  "nbformat_minor": 0,
  "metadata": {
    "colab": {
      "name": "Basic Programming",
      "provenance": [],
      "collapsed_sections": []
    },
    "kernelspec": {
      "name": "python3",
      "display_name": "Python 3"
    },
    "language_info": {
      "name": "python"
    }
  },
  "cells": [
    {
      "cell_type": "markdown",
      "source": [
        "# **Basic IF.. ELSE.. Programming**\n",
        "\n",
        "print certain value if the condition are met."
      ],
      "metadata": {
        "id": "073eXx6A_51i"
      }
    },
    {
      "cell_type": "code",
      "execution_count": null,
      "metadata": {
        "colab": {
          "base_uri": "https://localhost:8080/"
        },
        "id": "CqXMaQN3f0Aw",
        "outputId": "9d5b62e8-950a-49ae-efb8-0674e34c76e0"
      },
      "outputs": [
        {
          "output_type": "stream",
          "name": "stdout",
          "text": [
            "Sewaktu sekolah, saya menggunakan celana panjang berwarna abu\n"
          ]
        }
      ],
      "source": [
        "nama = 'Muhammad Fikri Fadila'\n",
        "jenis_kelamin = 'laki-laki'\n",
        "\n",
        "if jenis_kelamin == 'laki-laki':\n",
        "  print('Sewaktu sekolah, saya menggunakan celana panjang berwarna abu')\n",
        "else:\n",
        "  print('Sewaktu sekolah, saya menggunakan rok berwarna abu')"
      ]
    },
    {
      "cell_type": "code",
      "source": [
        ""
      ],
      "metadata": {
        "id": "Yi_iaCHxglav"
      },
      "execution_count": null,
      "outputs": []
    }
  ]
}