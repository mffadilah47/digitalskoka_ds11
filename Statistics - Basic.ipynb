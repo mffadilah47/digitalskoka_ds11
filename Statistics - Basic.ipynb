{
  "nbformat": 4,
  "nbformat_minor": 0,
  "metadata": {
    "colab": {
      "name": "Basic Statistics.ipynb",
      "provenance": [],
      "collapsed_sections": []
    },
    "kernelspec": {
      "name": "python3",
      "display_name": "Python 3"
    },
    "language_info": {
      "name": "python"
    }
  },
  "cells": [
    {
      "cell_type": "markdown",
      "source": [
        "# **Brief Information About Hotel Building Price Dataset**\n",
        "Here, \"Hotel Prices\" does not refer to the cost of spending a night at those hotels but the price for buying them. This dataset would be used for those who wants to buy a hotel and needs to judge whether he/she is overpaying or getting a great deal depending on similar objects in other comparable cities.\n",
        "\n",
        "There are 4 initial columns in this dataset:\n",
        "\n",
        "1. Profit (How much money does this hotel make in a year),\n",
        "\n",
        "2. Price in Millions (€),\n",
        "\n",
        "3. Square Meter (Hotel Area),\n",
        "\n",
        "4. City,\n",
        "\n",
        "\n",
        "And 2 additional columns added as requirement for data visualization, these are:\n",
        "\n",
        "1. Square Meter Category,\n",
        "\n",
        "2. Price/Earning."
      ],
      "metadata": {
        "id": "FYHxsd-1lub_"
      }
    },
    {
      "cell_type": "markdown",
      "source": [
        "# **Import Library**"
      ],
      "metadata": {
        "id": "0w1QT1Lxl89v"
      }
    },
    {
      "cell_type": "code",
      "execution_count": null,
      "metadata": {
        "id": "rjR-lP4OsAfT"
      },
      "outputs": [],
      "source": [
        "#import data analytics library\n",
        "import pandas as pd\n",
        "import numpy as np\n",
        "\n",
        "#import data visualization library\n",
        "import seaborn as sns\n",
        "import matplotlib.pyplot as plt"
      ]
    },
    {
      "cell_type": "markdown",
      "source": [
        "# **Load Dataset**"
      ],
      "metadata": {
        "id": "iu8K-itemOLI"
      }
    },
    {
      "cell_type": "code",
      "source": [
        "hotel = pd.read_csv('/content/drive/MyDrive/hotels.csv')\n",
        "hotel"
      ],
      "metadata": {
        "colab": {
          "base_uri": "https://localhost:8080/",
          "height": 424
        },
        "id": "ehN34vRJskOg",
        "outputId": "b55c3207-be5e-4cf4-df45-a13f4e9b474c"
      },
      "execution_count": null,
      "outputs": [
        {
          "output_type": "execute_result",
          "data": {
            "text/html": [
              "\n",
              "  <div id=\"df-6baa50cc-0e6d-40eb-b9a0-2183d11ebbb1\">\n",
              "    <div class=\"colab-df-container\">\n",
              "      <div>\n",
              "<style scoped>\n",
              "    .dataframe tbody tr th:only-of-type {\n",
              "        vertical-align: middle;\n",
              "    }\n",
              "\n",
              "    .dataframe tbody tr th {\n",
              "        vertical-align: top;\n",
              "    }\n",
              "\n",
              "    .dataframe thead th {\n",
              "        text-align: right;\n",
              "    }\n",
              "</style>\n",
              "<table border=\"1\" class=\"dataframe\">\n",
              "  <thead>\n",
              "    <tr style=\"text-align: right;\">\n",
              "      <th></th>\n",
              "      <th>Profit</th>\n",
              "      <th>Price in Millions</th>\n",
              "      <th>Square Meter</th>\n",
              "      <th>City</th>\n",
              "    </tr>\n",
              "  </thead>\n",
              "  <tbody>\n",
              "    <tr>\n",
              "      <th>0</th>\n",
              "      <td>119000.0</td>\n",
              "      <td>21.88</td>\n",
              "      <td>3938.0</td>\n",
              "      <td>Berlin</td>\n",
              "    </tr>\n",
              "    <tr>\n",
              "      <th>1</th>\n",
              "      <td>250000.0</td>\n",
              "      <td>27.95</td>\n",
              "      <td>3986.0</td>\n",
              "      <td>Munich</td>\n",
              "    </tr>\n",
              "    <tr>\n",
              "      <th>2</th>\n",
              "      <td>250000.0</td>\n",
              "      <td>16.09</td>\n",
              "      <td>2574.0</td>\n",
              "      <td>Cologne</td>\n",
              "    </tr>\n",
              "    <tr>\n",
              "      <th>3</th>\n",
              "      <td>145000.0</td>\n",
              "      <td>27.58</td>\n",
              "      <td>4155.0</td>\n",
              "      <td>Munich</td>\n",
              "    </tr>\n",
              "    <tr>\n",
              "      <th>4</th>\n",
              "      <td>110000.0</td>\n",
              "      <td>23.76</td>\n",
              "      <td>3795.0</td>\n",
              "      <td>Berlin</td>\n",
              "    </tr>\n",
              "    <tr>\n",
              "      <th>...</th>\n",
              "      <td>...</td>\n",
              "      <td>...</td>\n",
              "      <td>...</td>\n",
              "      <td>...</td>\n",
              "    </tr>\n",
              "    <tr>\n",
              "      <th>145</th>\n",
              "      <td>45000.0</td>\n",
              "      <td>10.50</td>\n",
              "      <td>1775.0</td>\n",
              "      <td>Cologne</td>\n",
              "    </tr>\n",
              "    <tr>\n",
              "      <th>146</th>\n",
              "      <td>250000.0</td>\n",
              "      <td>23.80</td>\n",
              "      <td>4058.0</td>\n",
              "      <td>Cologne</td>\n",
              "    </tr>\n",
              "    <tr>\n",
              "      <th>147</th>\n",
              "      <td>32000.0</td>\n",
              "      <td>12.86</td>\n",
              "      <td>1668.0</td>\n",
              "      <td>Berlin</td>\n",
              "    </tr>\n",
              "    <tr>\n",
              "      <th>148</th>\n",
              "      <td>35000.0</td>\n",
              "      <td>15.80</td>\n",
              "      <td>2281.0</td>\n",
              "      <td>Berlin</td>\n",
              "    </tr>\n",
              "    <tr>\n",
              "      <th>149</th>\n",
              "      <td>90000.0</td>\n",
              "      <td>17.09</td>\n",
              "      <td>2297.0</td>\n",
              "      <td>Berlin</td>\n",
              "    </tr>\n",
              "  </tbody>\n",
              "</table>\n",
              "<p>150 rows × 4 columns</p>\n",
              "</div>\n",
              "      <button class=\"colab-df-convert\" onclick=\"convertToInteractive('df-6baa50cc-0e6d-40eb-b9a0-2183d11ebbb1')\"\n",
              "              title=\"Convert this dataframe to an interactive table.\"\n",
              "              style=\"display:none;\">\n",
              "        \n",
              "  <svg xmlns=\"http://www.w3.org/2000/svg\" height=\"24px\"viewBox=\"0 0 24 24\"\n",
              "       width=\"24px\">\n",
              "    <path d=\"M0 0h24v24H0V0z\" fill=\"none\"/>\n",
              "    <path d=\"M18.56 5.44l.94 2.06.94-2.06 2.06-.94-2.06-.94-.94-2.06-.94 2.06-2.06.94zm-11 1L8.5 8.5l.94-2.06 2.06-.94-2.06-.94L8.5 2.5l-.94 2.06-2.06.94zm10 10l.94 2.06.94-2.06 2.06-.94-2.06-.94-.94-2.06-.94 2.06-2.06.94z\"/><path d=\"M17.41 7.96l-1.37-1.37c-.4-.4-.92-.59-1.43-.59-.52 0-1.04.2-1.43.59L10.3 9.45l-7.72 7.72c-.78.78-.78 2.05 0 2.83L4 21.41c.39.39.9.59 1.41.59.51 0 1.02-.2 1.41-.59l7.78-7.78 2.81-2.81c.8-.78.8-2.07 0-2.86zM5.41 20L4 18.59l7.72-7.72 1.47 1.35L5.41 20z\"/>\n",
              "  </svg>\n",
              "      </button>\n",
              "      \n",
              "  <style>\n",
              "    .colab-df-container {\n",
              "      display:flex;\n",
              "      flex-wrap:wrap;\n",
              "      gap: 12px;\n",
              "    }\n",
              "\n",
              "    .colab-df-convert {\n",
              "      background-color: #E8F0FE;\n",
              "      border: none;\n",
              "      border-radius: 50%;\n",
              "      cursor: pointer;\n",
              "      display: none;\n",
              "      fill: #1967D2;\n",
              "      height: 32px;\n",
              "      padding: 0 0 0 0;\n",
              "      width: 32px;\n",
              "    }\n",
              "\n",
              "    .colab-df-convert:hover {\n",
              "      background-color: #E2EBFA;\n",
              "      box-shadow: 0px 1px 2px rgba(60, 64, 67, 0.3), 0px 1px 3px 1px rgba(60, 64, 67, 0.15);\n",
              "      fill: #174EA6;\n",
              "    }\n",
              "\n",
              "    [theme=dark] .colab-df-convert {\n",
              "      background-color: #3B4455;\n",
              "      fill: #D2E3FC;\n",
              "    }\n",
              "\n",
              "    [theme=dark] .colab-df-convert:hover {\n",
              "      background-color: #434B5C;\n",
              "      box-shadow: 0px 1px 3px 1px rgba(0, 0, 0, 0.15);\n",
              "      filter: drop-shadow(0px 1px 2px rgba(0, 0, 0, 0.3));\n",
              "      fill: #FFFFFF;\n",
              "    }\n",
              "  </style>\n",
              "\n",
              "      <script>\n",
              "        const buttonEl =\n",
              "          document.querySelector('#df-6baa50cc-0e6d-40eb-b9a0-2183d11ebbb1 button.colab-df-convert');\n",
              "        buttonEl.style.display =\n",
              "          google.colab.kernel.accessAllowed ? 'block' : 'none';\n",
              "\n",
              "        async function convertToInteractive(key) {\n",
              "          const element = document.querySelector('#df-6baa50cc-0e6d-40eb-b9a0-2183d11ebbb1');\n",
              "          const dataTable =\n",
              "            await google.colab.kernel.invokeFunction('convertToInteractive',\n",
              "                                                     [key], {});\n",
              "          if (!dataTable) return;\n",
              "\n",
              "          const docLinkHtml = 'Like what you see? Visit the ' +\n",
              "            '<a target=\"_blank\" href=https://colab.research.google.com/notebooks/data_table.ipynb>data table notebook</a>'\n",
              "            + ' to learn more about interactive tables.';\n",
              "          element.innerHTML = '';\n",
              "          dataTable['output_type'] = 'display_data';\n",
              "          await google.colab.output.renderOutput(dataTable, element);\n",
              "          const docLink = document.createElement('div');\n",
              "          docLink.innerHTML = docLinkHtml;\n",
              "          element.appendChild(docLink);\n",
              "        }\n",
              "      </script>\n",
              "    </div>\n",
              "  </div>\n",
              "  "
            ],
            "text/plain": [
              "       Profit  Price in Millions  Square Meter     City\n",
              "0    119000.0              21.88        3938.0   Berlin\n",
              "1    250000.0              27.95        3986.0   Munich\n",
              "2    250000.0              16.09        2574.0  Cologne\n",
              "3    145000.0              27.58        4155.0   Munich\n",
              "4    110000.0              23.76        3795.0   Berlin\n",
              "..        ...                ...           ...      ...\n",
              "145   45000.0              10.50        1775.0  Cologne\n",
              "146  250000.0              23.80        4058.0  Cologne\n",
              "147   32000.0              12.86        1668.0   Berlin\n",
              "148   35000.0              15.80        2281.0   Berlin\n",
              "149   90000.0              17.09        2297.0   Berlin\n",
              "\n",
              "[150 rows x 4 columns]"
            ]
          },
          "metadata": {},
          "execution_count": 165
        }
      ]
    },
    {
      "cell_type": "markdown",
      "source": [
        "Adding new column:\n",
        "1. Square Meter Category : Grouping 'Square Meter' column into 3 groups (< 2000, 2000 - 4000, and > 4000),\n",
        "\n",
        "2. Price/Earning : Create Price/Profit ratio by dividing 'Price in Millions' / 'Profit' columns."
      ],
      "metadata": {
        "id": "uPFk9ILErFbV"
      }
    },
    {
      "cell_type": "code",
      "source": [
        "hotel['Square Meter Category'] = ['< 2000' if a < 2000 else ('2000 - 4000' if a >= 2000 and a <= 4000 else '> 4000') \n",
        "                                  for a in hotel['Square Meter']]\n",
        "hotel['Price/Earning'] = (hotel['Price in Millions']*1000)/hotel['Profit']\n",
        "print(hotel)"
      ],
      "metadata": {
        "colab": {
          "base_uri": "https://localhost:8080/"
        },
        "id": "YiNlHU71z98b",
        "outputId": "69adc2d6-e90d-4fe7-c171-c9407a8032d7"
      },
      "execution_count": null,
      "outputs": [
        {
          "output_type": "stream",
          "name": "stdout",
          "text": [
            "       Profit  Price in Millions  ...  Square Meter Category Price/Earning\n",
            "0    119000.0              21.88  ...            2000 - 4000      0.183866\n",
            "1    250000.0              27.95  ...            2000 - 4000      0.111800\n",
            "2    250000.0              16.09  ...            2000 - 4000      0.064360\n",
            "3    145000.0              27.58  ...                 > 4000      0.190207\n",
            "4    110000.0              23.76  ...            2000 - 4000      0.216000\n",
            "..        ...                ...  ...                    ...           ...\n",
            "145   45000.0              10.50  ...                 < 2000      0.233333\n",
            "146  250000.0              23.80  ...                 > 4000      0.095200\n",
            "147   32000.0              12.86  ...                 < 2000      0.401875\n",
            "148   35000.0              15.80  ...            2000 - 4000      0.451429\n",
            "149   90000.0              17.09  ...            2000 - 4000      0.189889\n",
            "\n",
            "[150 rows x 6 columns]\n"
          ]
        }
      ]
    },
    {
      "cell_type": "markdown",
      "source": [
        "**Create descriptive analytics for hotel area ('Square Meter' Column) in Each City**"
      ],
      "metadata": {
        "id": "Ox1oL-c0rxuK"
      }
    },
    {
      "cell_type": "code",
      "source": [
        "#Descriptive Statistics for Hotel Area In Berlin\n",
        "hotel_berlin = hotel.loc[hotel['City'] == 'Berlin'].filter(items = ['Square Meter'])\n",
        "print(hotel_berlin.describe().round(2))"
      ],
      "metadata": {
        "colab": {
          "base_uri": "https://localhost:8080/"
        },
        "id": "xLwPPhdRprJE",
        "outputId": "d35c2fb1-90d5-4621-e33e-e20a97493f0e"
      },
      "execution_count": null,
      "outputs": [
        {
          "output_type": "stream",
          "name": "stdout",
          "text": [
            "       Square Meter\n",
            "count         48.00\n",
            "mean        2589.96\n",
            "std         1451.69\n",
            "min          114.00\n",
            "25%         1649.50\n",
            "50%         2630.00\n",
            "75%         3729.75\n",
            "max         5607.00\n"
          ]
        }
      ]
    },
    {
      "cell_type": "code",
      "source": [
        "#Descriptive Statistics for Hotel Area In Cologne\n",
        "hotel_cologne = hotel.loc[hotel['City'] == 'Cologne'].filter(items = ['Square Meter'])\n",
        "print(hotel_cologne.describe().round(2))"
      ],
      "metadata": {
        "colab": {
          "base_uri": "https://localhost:8080/"
        },
        "id": "onNrGYtpqmJ2",
        "outputId": "2d9949dc-84df-41cd-e2c6-07c8d21cd1de"
      },
      "execution_count": null,
      "outputs": [
        {
          "output_type": "stream",
          "name": "stdout",
          "text": [
            "       Square Meter\n",
            "count         61.00\n",
            "mean        2655.18\n",
            "std         1419.73\n",
            "min          179.00\n",
            "25%         1581.00\n",
            "50%         2574.00\n",
            "75%         3558.00\n",
            "max         5741.00\n"
          ]
        }
      ]
    },
    {
      "cell_type": "code",
      "source": [
        "#Descriptive Statistics for Hotel Area In Munich\n",
        "hotel_munich = hotel.loc[hotel['City'] == 'Munich'].filter(items = ['Square Meter'])\n",
        "print(hotel_munich.describe().round(2))"
      ],
      "metadata": {
        "colab": {
          "base_uri": "https://localhost:8080/"
        },
        "id": "EOReDyK1qtgf",
        "outputId": "dfeacbb4-d6b3-40aa-d8ab-8f581c13bcc7"
      },
      "execution_count": null,
      "outputs": [
        {
          "output_type": "stream",
          "name": "stdout",
          "text": [
            "       Square Meter\n",
            "count         41.00\n",
            "mean        2510.20\n",
            "std         1467.18\n",
            "min           82.00\n",
            "25%         1492.00\n",
            "50%         2501.00\n",
            "75%         3306.00\n",
            "max         5702.00\n"
          ]
        }
      ]
    },
    {
      "cell_type": "markdown",
      "source": [
        "# **Data Visualization**\n",
        "1. Pivot Table\n",
        "2. Histogram\n",
        "3. Boxplot\n",
        "4. Scatter Plot\n",
        "5. Line Chart\n",
        "6. Pie Chart\n",
        "7. Bar Chart\n"
      ],
      "metadata": {
        "id": "4rkDklSdmWPF"
      }
    },
    {
      "cell_type": "markdown",
      "source": [
        "## **1. Pivot Table**\n",
        "\n",
        "This pivot table shows the summary of the dataset that includes the minimum, maximum, and average for columns : Price in Milions, Profit, Price/Earning; \n",
        "\n",
        "and count for Square Meter Category column."
      ],
      "metadata": {
        "id": "Bp721dXSmwlu"
      }
    },
    {
      "cell_type": "code",
      "source": [
        "hotel_summary = pd.pivot_table(hotel, values = ['Profit', 'Price in Millions', 'Square Meter Category', 'Price/Earning'], index = ['City', 'Square Meter Category'], aggfunc = {'Profit':[min, max, np.mean],\n",
        "                                'Price in Millions':[min, max, np.mean], 'Square Meter Category':['count'], 'Price/Earning': [np.mean]}).round(2)\n",
        "hotel_summary"
      ],
      "metadata": {
        "colab": {
          "base_uri": "https://localhost:8080/",
          "height": 394
        },
        "id": "Ejov433htNUP",
        "outputId": "c091c19e-4b31-49f2-f520-996331fab8c1"
      },
      "execution_count": null,
      "outputs": [
        {
          "output_type": "execute_result",
          "data": {
            "text/html": [
              "\n",
              "  <div id=\"df-3d2b84bd-c7f3-4c21-85eb-9fa2f897bba2\">\n",
              "    <div class=\"colab-df-container\">\n",
              "      <div>\n",
              "<style scoped>\n",
              "    .dataframe tbody tr th:only-of-type {\n",
              "        vertical-align: middle;\n",
              "    }\n",
              "\n",
              "    .dataframe tbody tr th {\n",
              "        vertical-align: top;\n",
              "    }\n",
              "\n",
              "    .dataframe thead tr th {\n",
              "        text-align: left;\n",
              "    }\n",
              "\n",
              "    .dataframe thead tr:last-of-type th {\n",
              "        text-align: right;\n",
              "    }\n",
              "</style>\n",
              "<table border=\"1\" class=\"dataframe\">\n",
              "  <thead>\n",
              "    <tr>\n",
              "      <th></th>\n",
              "      <th></th>\n",
              "      <th colspan=\"3\" halign=\"left\">Price in Millions</th>\n",
              "      <th>Price/Earning</th>\n",
              "      <th colspan=\"3\" halign=\"left\">Profit</th>\n",
              "      <th>Square Meter Category</th>\n",
              "    </tr>\n",
              "    <tr>\n",
              "      <th></th>\n",
              "      <th></th>\n",
              "      <th>max</th>\n",
              "      <th>mean</th>\n",
              "      <th>min</th>\n",
              "      <th>mean</th>\n",
              "      <th>max</th>\n",
              "      <th>mean</th>\n",
              "      <th>min</th>\n",
              "      <th>count</th>\n",
              "    </tr>\n",
              "    <tr>\n",
              "      <th>City</th>\n",
              "      <th>Square Meter Category</th>\n",
              "      <th></th>\n",
              "      <th></th>\n",
              "      <th></th>\n",
              "      <th></th>\n",
              "      <th></th>\n",
              "      <th></th>\n",
              "      <th></th>\n",
              "      <th></th>\n",
              "    </tr>\n",
              "  </thead>\n",
              "  <tbody>\n",
              "    <tr>\n",
              "      <th rowspan=\"3\" valign=\"top\">Berlin</th>\n",
              "      <th>2000 - 4000</th>\n",
              "      <td>23.82</td>\n",
              "      <td>19.43</td>\n",
              "      <td>14.90</td>\n",
              "      <td>0.21</td>\n",
              "      <td>250000.0</td>\n",
              "      <td>106913.04</td>\n",
              "      <td>35000.0</td>\n",
              "      <td>23</td>\n",
              "    </tr>\n",
              "    <tr>\n",
              "      <th>&lt; 2000</th>\n",
              "      <td>14.11</td>\n",
              "      <td>10.55</td>\n",
              "      <td>6.62</td>\n",
              "      <td>0.57</td>\n",
              "      <td>227000.0</td>\n",
              "      <td>44555.56</td>\n",
              "      <td>3000.0</td>\n",
              "      <td>18</td>\n",
              "    </tr>\n",
              "    <tr>\n",
              "      <th>&gt; 4000</th>\n",
              "      <td>31.79</td>\n",
              "      <td>26.42</td>\n",
              "      <td>23.60</td>\n",
              "      <td>0.19</td>\n",
              "      <td>250000.0</td>\n",
              "      <td>158142.86</td>\n",
              "      <td>83000.0</td>\n",
              "      <td>7</td>\n",
              "    </tr>\n",
              "    <tr>\n",
              "      <th rowspan=\"3\" valign=\"top\">Cologne</th>\n",
              "      <th>2000 - 4000</th>\n",
              "      <td>20.86</td>\n",
              "      <td>16.29</td>\n",
              "      <td>11.87</td>\n",
              "      <td>0.14</td>\n",
              "      <td>250000.0</td>\n",
              "      <td>141967.74</td>\n",
              "      <td>56000.0</td>\n",
              "      <td>31</td>\n",
              "    </tr>\n",
              "    <tr>\n",
              "      <th>&lt; 2000</th>\n",
              "      <td>13.86</td>\n",
              "      <td>8.18</td>\n",
              "      <td>4.16</td>\n",
              "      <td>0.31</td>\n",
              "      <td>250000.0</td>\n",
              "      <td>59200.00</td>\n",
              "      <td>7000.0</td>\n",
              "      <td>20</td>\n",
              "    </tr>\n",
              "    <tr>\n",
              "      <th>&gt; 4000</th>\n",
              "      <td>28.49</td>\n",
              "      <td>24.60</td>\n",
              "      <td>20.14</td>\n",
              "      <td>0.15</td>\n",
              "      <td>250000.0</td>\n",
              "      <td>182500.00</td>\n",
              "      <td>75000.0</td>\n",
              "      <td>10</td>\n",
              "    </tr>\n",
              "    <tr>\n",
              "      <th rowspan=\"3\" valign=\"top\">Munich</th>\n",
              "      <th>2000 - 4000</th>\n",
              "      <td>27.95</td>\n",
              "      <td>21.89</td>\n",
              "      <td>18.30</td>\n",
              "      <td>0.24</td>\n",
              "      <td>250000.0</td>\n",
              "      <td>114823.53</td>\n",
              "      <td>34000.0</td>\n",
              "      <td>17</td>\n",
              "    </tr>\n",
              "    <tr>\n",
              "      <th>&lt; 2000</th>\n",
              "      <td>19.32</td>\n",
              "      <td>14.58</td>\n",
              "      <td>7.84</td>\n",
              "      <td>0.70</td>\n",
              "      <td>250000.0</td>\n",
              "      <td>55411.76</td>\n",
              "      <td>2000.0</td>\n",
              "      <td>17</td>\n",
              "    </tr>\n",
              "    <tr>\n",
              "      <th>&gt; 4000</th>\n",
              "      <td>35.35</td>\n",
              "      <td>29.86</td>\n",
              "      <td>27.27</td>\n",
              "      <td>0.19</td>\n",
              "      <td>250000.0</td>\n",
              "      <td>178142.86</td>\n",
              "      <td>89000.0</td>\n",
              "      <td>7</td>\n",
              "    </tr>\n",
              "  </tbody>\n",
              "</table>\n",
              "</div>\n",
              "      <button class=\"colab-df-convert\" onclick=\"convertToInteractive('df-3d2b84bd-c7f3-4c21-85eb-9fa2f897bba2')\"\n",
              "              title=\"Convert this dataframe to an interactive table.\"\n",
              "              style=\"display:none;\">\n",
              "        \n",
              "  <svg xmlns=\"http://www.w3.org/2000/svg\" height=\"24px\"viewBox=\"0 0 24 24\"\n",
              "       width=\"24px\">\n",
              "    <path d=\"M0 0h24v24H0V0z\" fill=\"none\"/>\n",
              "    <path d=\"M18.56 5.44l.94 2.06.94-2.06 2.06-.94-2.06-.94-.94-2.06-.94 2.06-2.06.94zm-11 1L8.5 8.5l.94-2.06 2.06-.94-2.06-.94L8.5 2.5l-.94 2.06-2.06.94zm10 10l.94 2.06.94-2.06 2.06-.94-2.06-.94-.94-2.06-.94 2.06-2.06.94z\"/><path d=\"M17.41 7.96l-1.37-1.37c-.4-.4-.92-.59-1.43-.59-.52 0-1.04.2-1.43.59L10.3 9.45l-7.72 7.72c-.78.78-.78 2.05 0 2.83L4 21.41c.39.39.9.59 1.41.59.51 0 1.02-.2 1.41-.59l7.78-7.78 2.81-2.81c.8-.78.8-2.07 0-2.86zM5.41 20L4 18.59l7.72-7.72 1.47 1.35L5.41 20z\"/>\n",
              "  </svg>\n",
              "      </button>\n",
              "      \n",
              "  <style>\n",
              "    .colab-df-container {\n",
              "      display:flex;\n",
              "      flex-wrap:wrap;\n",
              "      gap: 12px;\n",
              "    }\n",
              "\n",
              "    .colab-df-convert {\n",
              "      background-color: #E8F0FE;\n",
              "      border: none;\n",
              "      border-radius: 50%;\n",
              "      cursor: pointer;\n",
              "      display: none;\n",
              "      fill: #1967D2;\n",
              "      height: 32px;\n",
              "      padding: 0 0 0 0;\n",
              "      width: 32px;\n",
              "    }\n",
              "\n",
              "    .colab-df-convert:hover {\n",
              "      background-color: #E2EBFA;\n",
              "      box-shadow: 0px 1px 2px rgba(60, 64, 67, 0.3), 0px 1px 3px 1px rgba(60, 64, 67, 0.15);\n",
              "      fill: #174EA6;\n",
              "    }\n",
              "\n",
              "    [theme=dark] .colab-df-convert {\n",
              "      background-color: #3B4455;\n",
              "      fill: #D2E3FC;\n",
              "    }\n",
              "\n",
              "    [theme=dark] .colab-df-convert:hover {\n",
              "      background-color: #434B5C;\n",
              "      box-shadow: 0px 1px 3px 1px rgba(0, 0, 0, 0.15);\n",
              "      filter: drop-shadow(0px 1px 2px rgba(0, 0, 0, 0.3));\n",
              "      fill: #FFFFFF;\n",
              "    }\n",
              "  </style>\n",
              "\n",
              "      <script>\n",
              "        const buttonEl =\n",
              "          document.querySelector('#df-3d2b84bd-c7f3-4c21-85eb-9fa2f897bba2 button.colab-df-convert');\n",
              "        buttonEl.style.display =\n",
              "          google.colab.kernel.accessAllowed ? 'block' : 'none';\n",
              "\n",
              "        async function convertToInteractive(key) {\n",
              "          const element = document.querySelector('#df-3d2b84bd-c7f3-4c21-85eb-9fa2f897bba2');\n",
              "          const dataTable =\n",
              "            await google.colab.kernel.invokeFunction('convertToInteractive',\n",
              "                                                     [key], {});\n",
              "          if (!dataTable) return;\n",
              "\n",
              "          const docLinkHtml = 'Like what you see? Visit the ' +\n",
              "            '<a target=\"_blank\" href=https://colab.research.google.com/notebooks/data_table.ipynb>data table notebook</a>'\n",
              "            + ' to learn more about interactive tables.';\n",
              "          element.innerHTML = '';\n",
              "          dataTable['output_type'] = 'display_data';\n",
              "          await google.colab.output.renderOutput(dataTable, element);\n",
              "          const docLink = document.createElement('div');\n",
              "          docLink.innerHTML = docLinkHtml;\n",
              "          element.appendChild(docLink);\n",
              "        }\n",
              "      </script>\n",
              "    </div>\n",
              "  </div>\n",
              "  "
            ],
            "text/plain": [
              "                              Price in Millions  ... Square Meter Category\n",
              "                                            max  ...                 count\n",
              "City    Square Meter Category                    ...                      \n",
              "Berlin  2000 - 4000                       23.82  ...                    23\n",
              "        < 2000                            14.11  ...                    18\n",
              "        > 4000                            31.79  ...                     7\n",
              "Cologne 2000 - 4000                       20.86  ...                    31\n",
              "        < 2000                            13.86  ...                    20\n",
              "        > 4000                            28.49  ...                    10\n",
              "Munich  2000 - 4000                       27.95  ...                    17\n",
              "        < 2000                            19.32  ...                    17\n",
              "        > 4000                            35.35  ...                     7\n",
              "\n",
              "[9 rows x 8 columns]"
            ]
          },
          "metadata": {},
          "execution_count": 158
        }
      ]
    },
    {
      "cell_type": "markdown",
      "source": [
        "## **2. Histogram**\n",
        "This histogram shows the data distribution central tendency, and skewness score according to hotel area in each city."
      ],
      "metadata": {
        "id": "zcHqjOcSm-cU"
      }
    },
    {
      "cell_type": "code",
      "source": [
        "#Create Histogram for Distribution of Hotel Area In Berlin\n",
        "berlin_sqm = hotel['Square Meter'].loc[hotel['City']== 'Berlin']\n",
        "sns.histplot(data=berlin_sqm, kde=True )\n",
        "\n",
        "print('skewness: ', berlin_sqm.skew())\n",
        "plt.text(4200, 9, 'Median = 2630 \\nMean    = 2589.96', fontsize=10)\n",
        "plt.title(\"Distribution of Hotel Area In Berlin\")\n",
        "plt.show()\n",
        "\n",
        "#Create Histogram for Distribution of Hotel Area In Cologne\n",
        "cologne_sqm = hotel['Square Meter'].loc[hotel['City']== 'Cologne']\n",
        "sns.histplot(data=cologne_sqm, kde=True )\n",
        "\n",
        "print('skewness: ', cologne_sqm.skew())\n",
        "plt.text(4300, 11, 'Median = 2574 \\nMean    = 2655.18', fontsize=10)\n",
        "plt.title(\"Distribution of Hotel Area In Cologne\")\n",
        "plt.show()\n",
        "\n",
        "#Create Histogram for Distribution of Hotel Area In Munich\n",
        "munich_sqm = hotel['Square Meter'].loc[hotel['City']== 'Munich']\n",
        "sns.histplot(data=munich_sqm, kde=True )\n",
        "\n",
        "print('skewness: ', munich_sqm.skew())\n",
        "plt.text(4100, 8, 'Median = 2501 \\nMean    = 2510.20', fontsize=10)\n",
        "plt.title(\"Distribution of Hotel Area In Munich\")\n",
        "plt.show()"
      ],
      "metadata": {
        "id": "EY6dT_iFwIJi",
        "colab": {
          "base_uri": "https://localhost:8080/",
          "height": 903
        },
        "outputId": "00566e3c-b9ae-42c1-eaa0-e57f395b01c1"
      },
      "execution_count": null,
      "outputs": [
        {
          "output_type": "stream",
          "name": "stdout",
          "text": [
            "skewness:  0.026503637255809443\n"
          ]
        },
        {
          "output_type": "display_data",
          "data": {
            "image/png": "[encoded data removed]",
            "text/plain": [
              "<Figure size 432x288 with 1 Axes>"
            ]
          },
          "metadata": {
            "needs_background": "light"
          }
        },
        {
          "output_type": "stream",
          "name": "stdout",
          "text": [
            "skewness:  0.2796023466501515\n"
          ]
        },
        {
          "output_type": "display_data",
          "data": {
            "image/png": "[encoded data removed]",
            "text/plain": [
              "<Figure size 432x288 with 1 Axes>"
            ]
          },
          "metadata": {
            "needs_background": "light"
          }
        },
        {
          "output_type": "stream",
          "name": "stdout",
          "text": [
            "skewness:  0.3913001946029544\n"
          ]
        },
        {
          "output_type": "display_data",
          "data": {
            "image/png": "[encoded data removed]",
            "text/plain": [
              "<Figure size 432x288 with 1 Axes>"
            ]
          },
          "metadata": {
            "needs_background": "light"
          }
        }
      ]
    },
    {
      "cell_type": "markdown",
      "source": [
        "From histogram above, we can see that the data distribution central tendency of hotel area in each city is quite normal distributed since the median and mean value is close."
      ],
      "metadata": {
        "id": "-KEhmEsXy_c3"
      }
    },
    {
      "cell_type": "markdown",
      "source": [
        "## **3. Boxplot**\n",
        "\n",
        "Visually shows the central tendency (skewness) of hotel area (Square Meter) in each city."
      ],
      "metadata": {
        "id": "DZC1CRcFErAo"
      }
    },
    {
      "cell_type": "code",
      "source": [
        "#Berlin\n",
        "sns.boxplot(data=hotel.loc[hotel['City'] == 'Berlin'], x = 'Square Meter')\n",
        "plt.title(\"Berlin\")\n",
        "plt.show()\n",
        "\n",
        "#Cologne\n",
        "sns.boxplot(data=hotel.loc[hotel['City'] == 'Cologne'], x = 'Square Meter')\n",
        "plt.title(\"Cologne\")\n",
        "plt.show()\n",
        "\n",
        "#Munich\n",
        "sns.boxplot(data=hotel.loc[hotel['City'] == 'Munich'], x = 'Square Meter')\n",
        "plt.title(\"Munich\")\n",
        "plt.show()"
      ],
      "metadata": {
        "colab": {
          "base_uri": "https://localhost:8080/",
          "height": 851
        },
        "id": "Q6R9LmKREqYp",
        "outputId": "aa6d54ae-a696-466d-fc76-1a57d19250f9"
      },
      "execution_count": null,
      "outputs": [
        {
          "output_type": "display_data",
          "data": {
            "image/png": "[encoded data removed]",
            "text/plain": [
              "<Figure size 432x288 with 1 Axes>"
            ]
          },
          "metadata": {
            "needs_background": "light"
          }
        },
        {
          "output_type": "display_data",
          "data": {
            "image/png": "[encoded data removed]",
            "text/plain": [
              "<Figure size 432x288 with 1 Axes>"
            ]
          },
          "metadata": {
            "needs_background": "light"
          }
        },
        {
          "output_type": "display_data",
          "data": {
            "image/png": "[encoded data removed]",
            "text/plain": [
              "<Figure size 432x288 with 1 Axes>"
            ]
          },
          "metadata": {
            "needs_background": "light"
          }
        }
      ]
    },
    {
      "cell_type": "markdown",
      "source": [
        "From boxplot above, we can see that **Berlin** is quite normal distributed data while **Cologne & Munich** is slightly to the left side which indicates they have the tendency to have **right skewness**. \n",
        "\n",
        "And from this boxplot we know that there is no **outliers** in this dataset."
      ],
      "metadata": {
        "id": "hYXjcxPYwPHp"
      }
    },
    {
      "cell_type": "markdown",
      "source": [
        "## **4. Scatter Plot**\n",
        "This scatter plot shows us whether there is any pattern that occured for price and profit variable in each city."
      ],
      "metadata": {
        "id": "XyD1hwyDCxB9"
      }
    },
    {
      "cell_type": "code",
      "source": [
        "#Berlin\n",
        "sns.scatterplot(data=hotel.loc[hotel['City'] == 'Berlin'], x = 'Price in Millions', y = 'Profit')\n",
        "plt.title(\"Berlin\")\n",
        "plt.show()\n",
        "\n",
        "#Cologne\n",
        "sns.scatterplot(data=hotel.loc[hotel['City'] == 'Cologne'], x = 'Price in Millions', y = 'Profit')\n",
        "plt.title(\"Cologne\")\n",
        "plt.show()\n",
        "\n",
        "#Munich\n",
        "sns.scatterplot(data=hotel.loc[hotel['City'] == 'Munich'], x = 'Price in Millions', y = 'Profit')\n",
        "plt.title(\"Munich\")\n",
        "plt.show()"
      ],
      "metadata": {
        "colab": {
          "base_uri": "https://localhost:8080/",
          "height": 851
        },
        "id": "6qCzayXxCwhX",
        "outputId": "8e25ff5e-7779-42a9-b9b2-4e6dc4b3d2e8"
      },
      "execution_count": null,
      "outputs": [
        {
          "output_type": "display_data",
          "data": {
            "image/png": "[encoded data removed]",
            "text/plain": [
              "<Figure size 432x288 with 1 Axes>"
            ]
          },
          "metadata": {
            "needs_background": "light"
          }
        },
        {
          "output_type": "display_data",
          "data": {
            "image/png": "[encoded data removed]",
            "text/plain": [
              "<Figure size 432x288 with 1 Axes>"
            ]
          },
          "metadata": {
            "needs_background": "light"
          }
        },
        {
          "output_type": "display_data",
          "data": {
            "image/png": "[encoded data removed]",
            "text/plain": [
              "<Figure size 432x288 with 1 Axes>"
            ]
          },
          "metadata": {
            "needs_background": "light"
          }
        }
      ]
    },
    {
      "cell_type": "markdown",
      "source": [
        "From scatter plot above, we can see that there is a positive pattern which as the price increasing, so does the profit that could be earned."
      ],
      "metadata": {
        "id": "Iaw0a0NUuSWK"
      }
    },
    {
      "cell_type": "markdown",
      "source": [
        "## **5. Heatmap**\n",
        "This heatmap will show us whether any correlation between two certain variables."
      ],
      "metadata": {
        "id": "8BNCpoew1dOv"
      }
    },
    {
      "cell_type": "code",
      "source": [
        "plt.figure(figsize=(14,8))\n",
        "sns.heatmap(hotel.corr(), annot=True)\n",
        "plt.show()"
      ],
      "metadata": {
        "colab": {
          "base_uri": "https://localhost:8080/",
          "height": 487
        },
        "id": "D7EafmpZ1LoD",
        "outputId": "c8929413-dfb0-4e27-80ba-aa275b25fc60"
      },
      "execution_count": null,
      "outputs": [
        {
          "output_type": "display_data",
          "data": {
            "image/png": "[encoded data removed]",
            "text/plain": [
              "<Figure size 1008x576 with 2 Axes>"
            ]
          },
          "metadata": {
            "needs_background": "light"
          }
        }
      ]
    },
    {
      "cell_type": "markdown",
      "source": [
        "From heatmap above, we can see that there is a positive correlation between :\n",
        "1. Price in Millions and Square Meter (value = **0.91**)\n",
        "2. Profit and Square Meter (value = **0.61**)\n",
        "3. Profit and Price in Millions (value = **0.59**)"
      ],
      "metadata": {
        "id": "LAQ49k7T1rJZ"
      }
    },
    {
      "cell_type": "markdown",
      "source": [
        "## **6. Line Chart**\n",
        "This line chart shows which city has the lowest and highest buy price and profit values."
      ],
      "metadata": {
        "id": "iKEIPD8BEEpL"
      }
    },
    {
      "cell_type": "code",
      "source": [
        "#Create Line Chart for Mean Profit Values\n",
        "x = ['<2000', '2000 - 4000', '> 4000']\n",
        "y1 = ['44555.56', '106913.04', '158142.86']\n",
        "y2 = ['59200', '141967.74', '182500']\n",
        "y3 = ['55411.76', '114823.53', '178142.86\t']\n",
        "\n",
        "plt.plot( x, y1,  'g', label = 'Berlin', linestyle = '-')\n",
        "plt.plot( x, y2,  'b', label = 'Cologne', linestyle = '-.')\n",
        "plt.plot( x, y3,  'r', label = 'Munich', linestyle = '--')\n",
        "\n",
        "plt.legend(['Berlin', 'Cologne', 'Munich'], fontsize = 8)\n",
        "plt.title('Mean Profit')\n",
        "plt.show()\n",
        "\n",
        "#Create Line Chart for Mean Price Values\n",
        "x = ['<2000', '2000 - 4000', '> 4000']\n",
        "y1 = ['10.55', '19.43', '26.42']\n",
        "y2 = ['8.18', '16.29', '24.60']\n",
        "y3 = ['14.58', '21.89', '29.86']\n",
        "\n",
        "plt.plot( x, y1,  'g', label = 'Berlin', linestyle = '-')\n",
        "plt.plot( x, y2,  'b', label = 'Cologne', linestyle = '-.')\n",
        "plt.plot( x, y3,  'r', label = 'Munich', linestyle = '--')\n",
        "\n",
        "plt.legend(['Berlin', 'Cologne', 'Munich'], fontsize = 8)\n",
        "plt.title('Mean Price')\n",
        "plt.show()"
      ],
      "metadata": {
        "id": "y02xR5cOEDvq",
        "colab": {
          "base_uri": "https://localhost:8080/",
          "height": 614
        },
        "outputId": "5bf01ca9-4933-4c43-bcf4-3c63d96bb6f6"
      },
      "execution_count": null,
      "outputs": [
        {
          "output_type": "stream",
          "name": "stderr",
          "text": [
            "/usr/local/lib/python3.7/dist-packages/matplotlib/backends/backend_agg.py:214: RuntimeWarning: Glyph 9 missing from current font.\n",
            "  font.set_text(s, 0.0, flags=flags)\n",
            "/usr/local/lib/python3.7/dist-packages/matplotlib/backends/backend_agg.py:183: RuntimeWarning: Glyph 9 missing from current font.\n",
            "  font.set_text(s, 0, flags=flags)\n"
          ]
        },
        {
          "output_type": "display_data",
          "data": {
            "image/png": "[encoded data removed]",
            "text/plain": [
              "<Figure size 432x288 with 1 Axes>"
            ]
          },
          "metadata": {
            "needs_background": "light"
          }
        },
        {
          "output_type": "display_data",
          "data": {
            "image/png": "[encoded data removed]",
            "text/plain": [
              "<Figure size 432x288 with 1 Axes>"
            ]
          },
          "metadata": {
            "needs_background": "light"
          }
        }
      ]
    },
    {
      "cell_type": "markdown",
      "source": [
        "From line chart above, we can see that **Berlin** has the **lowest** buy price and profit values,  while **Munich** has the **highest** buy price and profit values."
      ],
      "metadata": {
        "id": "Q8Jbw9egvQc3"
      }
    },
    {
      "cell_type": "markdown",
      "source": [
        "**7. Pie Chart**\n",
        "\n",
        "This pie chart shows us the percentage of the hotel area category in each city."
      ],
      "metadata": {
        "id": "rdoTKxISEahz"
      }
    },
    {
      "cell_type": "code",
      "source": [
        "#Create the display of Percentage Value function for Pie Chart\n",
        "def func(pct, allvalues):\n",
        "    absolute = int(pct / 100.*np.sum(allvalues))\n",
        "    return \"{:.1f}%\".format(pct, absolute)\n",
        "\n",
        "#Square Meter Category Percentage in Berlin\n",
        "label = ['< 2000', '2000 - 4000', '> 4000']\n",
        "data = [18, 23, 7 ]\n",
        "\n",
        "plt.pie(data, labels = label, autopct = lambda pct: func(pct, data))\n",
        "plt.title('Berlin')\n",
        "plt.show()\n",
        "\n",
        "#Square Meter Category Percentage in Cologne\n",
        "label = ['< 2000', '2000 - 4000', '> 4000']\n",
        "data = [20, 31, 10 ]\n",
        "\n",
        "plt.pie(data, labels = label, autopct = lambda pct: func(pct, data))\n",
        "plt.title('Cologne')\n",
        "plt.show()\n",
        "\n",
        "#Square Meter Category Percentage in Munich\n",
        "label = ['< 2000', '2000 - 4000', '> 4000']\n",
        "data = [17, 17, 7 ]\n",
        "\n",
        "plt.pie(data, labels = label, autopct = lambda pct: func(pct, data))\n",
        "plt.title('Munich')\n",
        "plt.show()\n"
      ],
      "metadata": {
        "id": "TcYlz-9DEdSR",
        "colab": {
          "base_uri": "https://localhost:8080/",
          "height": 758
        },
        "outputId": "8eecc275-707d-42d4-c260-0e27eaa9ab0a"
      },
      "execution_count": null,
      "outputs": [
        {
          "output_type": "display_data",
          "data": {
            "image/png": "[encoded data removed]",
            "text/plain": [
              "<Figure size 432x288 with 1 Axes>"
            ]
          },
          "metadata": {}
        },
        {
          "output_type": "display_data",
          "data": {
            "image/png": "[encoded data removed]",
            "text/plain": [
              "<Figure size 432x288 with 1 Axes>"
            ]
          },
          "metadata": {}
        },
        {
          "output_type": "display_data",
          "data": {
            "image/png": "[encoded data removed]",
            "text/plain": [
              "<Figure size 432x288 with 1 Axes>"
            ]
          },
          "metadata": {}
        }
      ]
    },
    {
      "cell_type": "markdown",
      "source": [
        "## **8. Bar Chart**\n",
        "\n",
        "Shows which city in each Square Meter Category (SMC) has the most profitable city indicated by Profit/Earning (P/E) ratio. \n",
        "\n",
        "The most profitable city for each SMC is the one that has **lowest P/E** (near zero)."
      ],
      "metadata": {
        "id": "7pTFtb_fzKq1"
      }
    },
    {
      "cell_type": "code",
      "source": [
        "#Bar chart positioning\n",
        "N = 3\n",
        "ind = np.arange(N) \n",
        "width = 0.25\n",
        "\n",
        "#xvals = P/E mean in each city for SMC = < 2000\n",
        "xvals = [0.57, 0.31, 0.70]\n",
        "bar1 = plt.bar(ind, xvals, width, color = 'r')\n",
        "\n",
        "#yvals = P/E mean in each city for SMC = 2000 - 4000  \n",
        "yvals = [0.21, 0.14, 0.24]\n",
        "bar2 = plt.bar(ind+width, yvals, width, color='y')\n",
        "\n",
        "#zvals = P/E mean in each city for SMC = > 4000\n",
        "zvals = [0.19, 0.15, 0.19]\n",
        "bar3 = plt.bar(ind+width*2, zvals, width, color = 'g')\n",
        "  \n",
        "plt.xlabel(\"City\")\n",
        "plt.ylabel(\"Price/Profit Ratio\")\n",
        "plt.title(\"Price/Profit Ratio in Each City\")\n",
        "  \n",
        "plt.xticks(ind+width,['Berlin', 'Cologne', 'Munich'])\n",
        "plt.legend((bar1, bar2, bar3), ('SMC : < 2000', 'SMC : 2000 - 4000', 'SMC : > 4000'))\n",
        "plt.show()"
      ],
      "metadata": {
        "colab": {
          "base_uri": "https://localhost:8080/",
          "height": 295
        },
        "id": "QdbFAVBJ44HH",
        "outputId": "a4aa0c23-b101-4625-c2fd-b4ed38c314e0"
      },
      "execution_count": null,
      "outputs": [
        {
          "output_type": "display_data",
          "data": {
            "image/png": "[encoded data removed]",
            "text/plain": [
              "<Figure size 432x288 with 1 Axes>"
            ]
          },
          "metadata": {
            "needs_background": "light"
          }
        }
      ]
    },
    {
      "cell_type": "markdown",
      "source": [
        "From bar chart above, we can see that **Cologne City** has the **lowest P/E.** "
      ],
      "metadata": {
        "id": "UI_JbN__G3WH"
      }
    },
    {
      "cell_type": "markdown",
      "source": [
        "# **Summary**\n",
        "\n",
        "From the data visualization, we can conclude that :\n",
        "\n",
        "1. **Cologne City** has the most profitable hotel building in every aspect of Square Meter Category (SMC) since it has the **lowest P/E.**\n",
        "2. Although as the buy price higher so does the profit values, it doesn't mean that it has the most profitable value."
      ],
      "metadata": {
        "id": "IHrvE0EAymC_"
      }
    }
  ]
}